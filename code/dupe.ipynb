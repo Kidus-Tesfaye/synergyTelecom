{
 "cells": [
  {
   "cell_type": "markdown",
   "id": "ef199a8d",
   "metadata": {},
   "source": [
    "**Hyperparameter tuning and fitting for a logistic regression model.** <br>\n",
    "\n",
    "For more information about the hyperparameters please visit [Logistic Regression](https://scikit-learn.org/stable/modules/generated/sklearn.linear_model.LogisticRegression.html)"
   ]
  },
  {
   "cell_type": "code",
   "execution_count": null,
   "id": "87e97b3c",
   "metadata": {},
   "outputs": [],
   "source": [
    "\"\"\"Make necessary imports\"\"\" \n",
    "\n",
    "# logistic_model = LogisticRegression(random_state= 1)\n",
    "\n",
    "# log_param_grid = {\n",
    "#                         \"model__penalty\": ['l1', 'l2', 'elasticnet', 'none'],\n",
    "#                         \"model__C\": np.logspace(-2, 2, num = 10), \n",
    "#                         \"model__solver\": ['saga', 'sag', 'newton-cg', 'liblinear', 'lbfgs'], \n",
    "#                         \"model__max_iter\": [50, 100, 500, 1000]\n",
    "#                         }      #hyperparameter grid for the GridSearchCV to search through. \n",
    "\n",
    "# log_grid_search = RandomizedSearchCV(n_iter= 100, estimator= logistic_model, param_grid= log_param_grid, cv = 5, n_jobs= -1)"
   ]
  }
 ],
 "metadata": {
  "language_info": {
   "name": "python"
  }
 },
 "nbformat": 4,
 "nbformat_minor": 5
}
