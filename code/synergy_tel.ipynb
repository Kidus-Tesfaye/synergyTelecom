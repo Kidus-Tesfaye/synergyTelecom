{
 "cells": [
  {
   "cell_type": "code",
   "execution_count": 2,
   "id": "5bc83120",
   "metadata": {},
   "outputs": [],
   "source": [
    "import pandas as pd\n",
    "import matplotlib.pyplot as plt\n",
    "import seaborn as sns\n",
    "%matplotlib inline"
   ]
  },
  {
   "cell_type": "code",
   "execution_count": 21,
   "id": "294b0219",
   "metadata": {},
   "outputs": [],
   "source": [
    "plt.rcParams['axes.grid'] = True"
   ]
  },
  {
   "cell_type": "code",
   "execution_count": 3,
   "id": "c72a90d9",
   "metadata": {},
   "outputs": [],
   "source": [
    "telecom_data = pd.read_csv(r\"C:\\Users\\kidus\\synergyTelecom\\data\\WA_Fn-UseC_-Telco-Customer-Churn.csv\")"
   ]
  },
  {
   "cell_type": "markdown",
   "id": "4a4b05a0",
   "metadata": {},
   "source": [
    "*\"Fix\" the TotalCharges columns*"
   ]
  },
  {
   "cell_type": "code",
   "execution_count": 4,
   "id": "be8cbc78",
   "metadata": {},
   "outputs": [],
   "source": [
    "# Since customers with no tenure have no TotalCharges, we will fill the respective cells with 0 instead of an empty string.\n",
    "no_tenure = telecom_data[telecom_data.tenure == 0]   \n",
    "\n",
    "total_charges_filled = telecom_data[telecom_data.index.isin(no_tenure.index)].copy()  # select from the original dataframe whose index is in the \"no_tenure\" dataframe.\n",
    "total_charges_filled[\"TotalCharges\"] = 0  \n",
    "\n",
    "telecom_data.update(total_charges_filled)\n",
    "telecom_data[\"TotalCharges\"] = telecom_data[\"TotalCharges\"].astype(float)"
   ]
  },
  {
   "cell_type": "markdown",
   "id": "afbf4580",
   "metadata": {},
   "source": [
    "*KDE to show the relationship between tenure and churn*"
   ]
  },
  {
   "cell_type": "code",
   "execution_count": null,
   "id": "73d96f62",
   "metadata": {},
   "outputs": [],
   "source": [
    "plt.title(\"Kernel Density Estimate of tenure for Churned vs Unchurned customers\")\n",
    "plt.xlabel(\"Tenure (months)\")\n",
    "sns.kdeplot(data = telecom_data,  x = \"tenure\", hue = \"Churn\", fill = False)"
   ]
  },
  {
   "cell_type": "markdown",
   "id": "6de6ee22",
   "metadata": {},
   "source": [
    "*Illustrate the relationship between contract type and churn*"
   ]
  },
  {
   "cell_type": "code",
   "execution_count": null,
   "id": "07ffb51f",
   "metadata": {},
   "outputs": [],
   "source": [
    "plt.title(\"Contract type of churned and unchurned customers\")\n",
    "sns.countplot(data = telecom_data, x = \"Contract\", hue = \"Churn\")"
   ]
  },
  {
   "cell_type": "markdown",
   "id": "df01d371",
   "metadata": {},
   "source": [
    "*Monthly Charges for churned and unchurned customers*"
   ]
  },
  {
   "cell_type": "code",
   "execution_count": null,
   "id": "087c785f",
   "metadata": {},
   "outputs": [],
   "source": [
    "sns.kdeplot(data = telecom_data, x = \"MonthlyCharges\", hue = \"Churn\")"
   ]
  }
 ],
 "metadata": {
  "kernelspec": {
   "display_name": ".venv",
   "language": "python",
   "name": "python3"
  },
  "language_info": {
   "codemirror_mode": {
    "name": "ipython",
    "version": 3
   },
   "file_extension": ".py",
   "mimetype": "text/x-python",
   "name": "python",
   "nbconvert_exporter": "python",
   "pygments_lexer": "ipython3",
   "version": "3.13.1"
  }
 },
 "nbformat": 4,
 "nbformat_minor": 5
}
