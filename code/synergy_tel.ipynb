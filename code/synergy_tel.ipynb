{
 "cells": [
  {
   "cell_type": "code",
   "execution_count": 32,
   "id": "5bc83120",
   "metadata": {},
   "outputs": [],
   "source": [
    "import pandas as pd\n",
    "import numpy as np\n",
    "import matplotlib as plt\n",
    "import seaborn as sns\n",
    "%matplotlib inline"
   ]
  },
  {
   "cell_type": "code",
   "execution_count": 73,
   "id": "c72a90d9",
   "metadata": {},
   "outputs": [],
   "source": [
    "telecom_data = pd.read_csv(r\"C:\\Users\\kidus\\synergyTelecom\\data\\WA_Fn-UseC_-Telco-Customer-Churn.csv\")"
   ]
  },
  {
   "cell_type": "code",
   "execution_count": 98,
   "id": "9431bb5e",
   "metadata": {},
   "outputs": [
    {
     "data": {
      "text/plain": [
       "dtype('float64')"
      ]
     },
     "execution_count": 98,
     "metadata": {},
     "output_type": "execute_result"
    }
   ],
   "source": [
    "no_tenure = telecom_data[telecom_data.TotalCharges == \" \"]\n",
    "\n",
    "cleaned_telecom_data = telecom_data[~telecom_data.index.isin(no_tenure.index)].copy()\n",
    "cleaned_telecom_data[\"TotalCharges\"] = cleaned_telecom_data[\"TotalCharges\"].astype(float)\n",
    "\n",
    "cleaned_telecom_data.MonthlyCharges.dtype"
   ]
  },
  {
   "cell_type": "code",
   "execution_count": null,
   "id": "73d96f62",
   "metadata": {},
   "outputs": [],
   "source": [
    "sns.histplot(data = cleaned_telecom_data, x = \"TotalCharges\", kde= True)"
   ]
  }
 ],
 "metadata": {
  "kernelspec": {
   "display_name": ".venv",
   "language": "python",
   "name": "python3"
  },
  "language_info": {
   "codemirror_mode": {
    "name": "ipython",
    "version": 3
   },
   "file_extension": ".py",
   "mimetype": "text/x-python",
   "name": "python",
   "nbconvert_exporter": "python",
   "pygments_lexer": "ipython3",
   "version": "3.13.1"
  }
 },
 "nbformat": 4,
 "nbformat_minor": 5
}
