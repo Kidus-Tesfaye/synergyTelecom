{
 "cells": [
  {
   "cell_type": "code",
   "execution_count": null,
   "id": "5bc83120",
   "metadata": {},
   "outputs": [],
   "source": [
    "import pandas as pd\n",
    "import matplotlib.pyplot as plt\n",
    "import seaborn as sns\n",
    "from xgboost import XGBClassifier\n",
    "from sklearn.model_selection import train_test_split\n",
    "from sklearn.compose import ColumnTransformer\n",
    "from sklearn.preprocessing import OneHotEncoder, StandardScaler\n",
    "from sklearn.pipeline import Pipeline\n",
    "from sklearn.linear_model import LogisticRegression\n",
    "from sklearn.metrics import confusion_matrix, classification_report\n",
    "# from helper import get_mi_score\n",
    "%matplotlib inline"
   ]
  },
  {
   "cell_type": "code",
   "execution_count": null,
   "id": "294b0219",
   "metadata": {},
   "outputs": [],
   "source": [
    "plt.rcParams['axes.grid'] = True   # Default behaviour for all graphs. "
   ]
  },
  {
   "cell_type": "code",
   "execution_count": null,
   "id": "c72a90d9",
   "metadata": {},
   "outputs": [],
   "source": [
    "telecom_data = pd.read_csv(r\"C:\\Users\\kidus\\synergyTelecom\\data\\WA_Fn-UseC_-Telco-Customer-Churn.csv\", index_col= \"customerID\")\n",
    "telecom_data.Churn.value_counts()"
   ]
  },
  {
   "cell_type": "markdown",
   "id": "4a4b05a0",
   "metadata": {},
   "source": [
    "*\"Fix\" the TotalCharges columns*"
   ]
  },
  {
   "cell_type": "code",
   "execution_count": null,
   "id": "be8cbc78",
   "metadata": {},
   "outputs": [],
   "source": [
    "# Since customers with no tenure have no TotalCharges, we will fill the respective cells with 0 instead of an empty string.\n",
    "no_tenure = telecom_data[telecom_data.tenure == 0]   \n",
    "\n",
    "total_charges_filled = telecom_data[telecom_data.index.isin(no_tenure.index)].copy()  # select from the original dataframe whose index is in the \"no_tenure\" dataframe.\n",
    "total_charges_filled[\"TotalCharges\"] = total_charges_filled[\"MonthlyCharges\"] * total_charges_filled[\"tenure\"]\n",
    "\n",
    "telecom_data.update(total_charges_filled)\n",
    "telecom_data[\"TotalCharges\"] = telecom_data[\"TotalCharges\"].astype(float)"
   ]
  },
  {
   "cell_type": "markdown",
   "id": "afbf4580",
   "metadata": {},
   "source": [
    "*KDE to show the relationship between tenure and churn*"
   ]
  },
  {
   "cell_type": "code",
   "execution_count": null,
   "id": "73d96f62",
   "metadata": {},
   "outputs": [],
   "source": [
    "plt.title(\"Kernel Density Estimate of tenure for Churned vs Unchurned customers\")\n",
    "plt.xlabel(\"Tenure (months)\")\n",
    "sns.kdeplot(data = telecom_data,  x = \"tenure\", hue = \"Churn\", fill = False)"
   ]
  },
  {
   "cell_type": "markdown",
   "id": "6de6ee22",
   "metadata": {},
   "source": [
    "*Illustrate the relationship between contract type and churn*"
   ]
  },
  {
   "cell_type": "code",
   "execution_count": null,
   "id": "07ffb51f",
   "metadata": {},
   "outputs": [],
   "source": [
    "plt.title(\"Contract type of churned and unchurned customers\")\n",
    "sns.countplot(data = telecom_data, x = \"Contract\", hue = \"Churn\")\n",
    "telecom_data.Contract.value_counts()"
   ]
  },
  {
   "cell_type": "markdown",
   "id": "df01d371",
   "metadata": {},
   "source": [
    "*Monthly Charges for churned and unchurned customers*"
   ]
  },
  {
   "cell_type": "code",
   "execution_count": null,
   "id": "087c785f",
   "metadata": {},
   "outputs": [],
   "source": [
    "plt.xlabel(\"Monthly charges\")\n",
    "sns.kdeplot(data = telecom_data, x = \"MonthlyCharges\", hue = \"Churn\")\n",
    "\n",
    "# The plot shows MonthlyCharge isn't, on its own, discriminative enough.  "
   ]
  },
  {
   "cell_type": "code",
   "execution_count": null,
   "id": "f33cf266",
   "metadata": {},
   "outputs": [],
   "source": [
    "sns.countplot(data = telecom_data, x = \"Dependents\", hue = \"Churn\")"
   ]
  },
  {
   "cell_type": "code",
   "execution_count": null,
   "id": "0e6bfb79",
   "metadata": {},
   "outputs": [],
   "source": [
    "y = telecom_data[\"Churn\"].map({\"Yes\": 1, \"No\":0})\n",
    "\n",
    "X = telecom_data.drop(\"Churn\", axis = 1)\n",
    "X[\"gender\"] = X[\"gender\"].map({\"Male\": 0, \"Female\": 1})      # Mapping the gender columns. 0 refers to Male and 1 refers to Female.\n",
    "\n",
    "closed_columns = [\"Partner\", \"Dependents\", \"PhoneService\"]  # Binary columns with Yes or No values. \n",
    "for col in closed_columns:      # Encode the columns. 0 means No and 1 means Yes. \n",
    "    X[col] = X[col].map({\"No\": 0, \"Yes\": 1})"
   ]
  },
  {
   "cell_type": "code",
   "execution_count": null,
   "id": "b4e2221d",
   "metadata": {},
   "outputs": [],
   "source": [
    "# only_nums_X = X.select_dtypes(include= \"number\")\n",
    "# num_features = only_nums_X.dtypes == float | int\n",
    "# get_mi_score(only_nums_X, y, discrete_features= num_features)"
   ]
  },
  {
   "cell_type": "code",
   "execution_count": null,
   "id": "ae0caa5d",
   "metadata": {},
   "outputs": [],
   "source": [
    "X_train, X_test, y_train, y_test = train_test_split(X, y, test_size= 0.25, random_state= 1)\n",
    "X_train: pd.DataFrame\n",
    "X_test: pd.DataFrame\n",
    "y_train: pd.Series\n",
    "y_test: pd.Series"
   ]
  },
  {
   "cell_type": "markdown",
   "id": "243c9912",
   "metadata": {},
   "source": [
    "*Select columns for encoding and encode appropriately*"
   ]
  },
  {
   "cell_type": "code",
   "execution_count": null,
   "id": "82bed8d6",
   "metadata": {},
   "outputs": [],
   "source": [
    "numerical_cols = [\"tenure\", \"MonthlyCharges\", \"TotalCharges\"]\n",
    "categorical_cols = X_train.select_dtypes(include= [\"object\", \"category\", \"string\"]).columns.to_list()\n",
    "\n",
    "std_scaler = StandardScaler()\n",
    "categorical_transformer = OneHotEncoder(handle_unknown= \"ignore\")\n",
    "\n",
    "preprocessor = ColumnTransformer(\n",
    "                                    transformers= [\n",
    "                                        (\"numeric\", std_scaler, numerical_cols), \n",
    "                                        (\"categorical\", categorical_transformer, categorical_cols)\n",
    "                                        ])\n"
   ]
  },
  {
   "cell_type": "markdown",
   "id": "4331f8ad",
   "metadata": {},
   "source": [
    "#### Define, fit and make predictions with the two specified model types. <br>\n",
    "Before making any hyperparameter tuning we should check the metrics of the baseline models. "
   ]
  },
  {
   "cell_type": "code",
   "execution_count": 19,
   "id": "ceaf242d",
   "metadata": {},
   "outputs": [],
   "source": [
    "logistic_model = LogisticRegression(random_state= 1)\n",
    "\n",
    "logistic_pipeline = Pipeline(\n",
    "                            steps = [(\"preprocess\", preprocessor), \n",
    "                                        (\"model\", logistic_model)\n",
    "                                        ])  \n",
    "\n",
    "logistic_pipeline.fit(X_train, y_train)\n",
    "\n",
    "logistic_pred = logistic_pipeline.predict(X_test)   # improve recall at the cost of precision. A price to pay to retain churner? \n",
    "\n",
    "\n",
    "log_cm = pd.DataFrame(confusion_matrix(y_test, logistic_pred), \n",
    "                      index = [\"Actual Negative\", \"Actual Positive\"], \n",
    "                      columns= [\"Predicted Negative\", \"Predicted Positive\"])\n",
    "# print(classification_report(y_test, logistic_pred))"
   ]
  },
  {
   "cell_type": "code",
   "execution_count": null,
   "id": "7e7e59db",
   "metadata": {},
   "outputs": [],
   "source": [
    "xgb_model = XGBClassifier(random_state = 1)\n",
    "\n",
    "xgb_pipeline = Pipeline(steps =[(\"preprocessor\", preprocessor), \n",
    "                                                    (\"model\", xgb_model)\n",
    "                                                    ])\n",
    "\n",
    "xgb_pipeline.fit(X_train, y_train)\n",
    "xgb_pred = xgb_pipeline.predict(X_test)\n",
    "\n",
    "xgb_cm = pd.DataFrame(confusion_matrix(y_test, xgb_pred), \n",
    "                      index = [\"Actual Negative\", \"Actual Positive\"], \n",
    "                      columns= [\"Predicted Negative\", \"Predicted Positive\"])\n",
    "\n",
    "print(classification_report(y_test, xgb_pred))"
   ]
  }
 ],
 "metadata": {
  "kernelspec": {
   "display_name": ".venv",
   "language": "python",
   "name": "python3"
  },
  "language_info": {
   "codemirror_mode": {
    "name": "ipython",
    "version": 3
   },
   "file_extension": ".py",
   "mimetype": "text/x-python",
   "name": "python",
   "nbconvert_exporter": "python",
   "pygments_lexer": "ipython3",
   "version": "3.13.1"
  }
 },
 "nbformat": 4,
 "nbformat_minor": 5
}
